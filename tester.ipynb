{
 "cells": [
  {
   "cell_type": "code",
   "execution_count": 2,
   "metadata": {},
   "outputs": [
    {
     "data": {
      "text/plain": [
       "'OPENQASM 2.0;\\ninclude \"qelib1.inc\";\\nqreg q[3];\\ncreg c[3];\\nh q[0];\\nh q[1];\\nh q[2];\\ncx q[0],q[2];\\nrz(0.2) q[2];\\ncx q[0],q[2];\\ncx q[1],q[2];\\nrz(0.2) q[2];\\ncx q[1],q[2];\\nrx(0.4) q[0];\\nrx(0.4) q[1];\\nh q[2];\\nmeasure q[0] -> c[0];\\nmeasure q[1] -> c[1];\\nmeasure q[2] -> c[2];\\n'"
      ]
     },
     "execution_count": 2,
     "metadata": {},
     "output_type": "execute_result"
    }
   ],
   "source": [
    "qasm_code = \"OPENQASM 2.0;\\ninclude \\\"qelib1.inc\\\";\\nqreg q[3];\\ncreg c[3];\\nh q[0];\\nh q[1];\\nh q[2];\\ncx q[0],q[2];\\nrz(0.2) q[2];\\ncx q[0],q[2];\\ncx q[1],q[2];\\nrz(0.2) q[2];\\ncx q[1],q[2];\\nrx(0.4) q[0];\\nrx(0.4) q[1];\\nh q[2];\\nmeasure q[0] -> c[0];\\nmeasure q[1] -> c[1];\\nmeasure q[2] -> c[2];\\n\"\n",
    "\n",
    "\n",
    "#\"OPENQASM 2.0;\\ninclude \\\"qelib1.inc\\\";\\nqreg q[3];\\ncreg c[3];\\nh q[0];\\nh q[1];\\nh q[2];\\ncx q[0],q[2];\\nrz(0.2) q[2];\\ncx q[0],q[2];\\ncx q[1],q[2];\\nrz(0.2) q[2];\\ncx q[1],q[2];\\nrx(0.4) q[0];\\nrx(0.4) q[1];\\nrx(0.4) q[2];\\nmeasure q[0] -> c[0];\\nmeasure q[1] -> c[1];\\nmeasure q[2] -> c[2];\"\n",
    "\n",
    "my_backends = [\"\", \"fake_brisbane\", \"fake_kyoto\"]\n",
    "\n",
    "shots = 8000\n",
    "\n",
    "qasm_code"
   ]
  },
  {
   "cell_type": "code",
   "execution_count": 5,
   "metadata": {},
   "outputs": [
    {
     "data": {
      "image/png": "[encoded data removed]",
      "text/plain": [
       "<Figure size 1040x367.889 with 1 Axes>"
      ]
     },
     "execution_count": 5,
     "metadata": {},
     "output_type": "execute_result"
    }
   ],
   "source": [
    "from qiskit import QuantumCircuit\n",
    "\n",
    "qc = QuantumCircuit.from_qasm_str(qasm_code)\n",
    "qc.draw(output='mpl')"
   ]
  },
  {
   "cell_type": "code",
   "execution_count": 11,
   "metadata": {},
   "outputs": [
    {
     "data": {
      "text/plain": [
       "{'qubits': 3,\n",
       " 'depth': 9,\n",
       " 'num_gates': 15,\n",
       " '2q_depth': 4,\n",
       " 'num_1q_gates': 11,\n",
       " 'num_2q_gates': 4,\n",
       " 'num_measurements': 3,\n",
       " 'gates': {'h': 4, 'cx': 4, 'measure': 3, 'rz': 2, 'rx': 2}}"
      ]
     },
     "execution_count": 11,
     "metadata": {},
     "output_type": "execute_result"
    }
   ],
   "source": [
    "d = {}\n",
    "\n",
    "d[\"qubits\"] = qc.num_qubits\n",
    "d[\"depth\"] = qc.depth()\n",
    "d[\"num_gates\"] = qc.size()\n",
    "\n",
    "d[\"2q_depth\"] = qc.depth(filter_function=lambda x: x.operation.num_qubits == 2)\n",
    "\n",
    "d['num_1q_gates'] = sum(1 for op in qc.data if op.operation.num_qubits == 1)\n",
    "d['num_2q_gates'] = sum(1 for op in qc.data if op.operation.num_qubits == 2)\n",
    "d['num_measurements'] = sum(1 for op in qc.data if op.operation.name == 'measure')\n",
    "\n",
    "d[\"gates\"] = dict(qc.count_ops())\n",
    "\n",
    "d"
   ]
  },
  {
   "cell_type": "code",
   "execution_count": 211,
   "metadata": {},
   "outputs": [
    {
     "name": "stdout",
     "output_type": "stream",
     "text": [
      "Running on \n",
      "-0.02001953125\n",
      "Running on fake_brisbane\n",
      "0.01416015625\n",
      "Running on fake_kyoto\n",
      "-0.01025390625\n",
      "{'': {'011': 1917, '111': 63, '100': 100, '001': 2002, '000': 1975, '010': 1943}, 'fake_brisbane': {'101': 24, '110': 28, '100': 88, '001': 2045, '000': 1882, '010': 1932, '111': 96, '011': 1905}, 'fake_kyoto': {'100': 1008, '110': 979, '001': 1001, '101': 1041, '000': 993, '010': 1007, '111': 1019, '011': 952}}\n",
      "{'': array(-0.02001953), 'fake_brisbane': array(0.01416016), 'fake_kyoto': array(-0.01025391)}\n"
     ]
    }
   ],
   "source": [
    "from qiskit import transpile\n",
    "from qiskit.transpiler.preset_passmanagers import generate_preset_pass_manager\n",
    "from qiskit_aer import AerSimulator\n",
    "from qiskit_ibm_runtime.fake_provider import FakeProviderForBackendV2 as FakeProvider\n",
    "from qiskit_ibm_runtime import EstimatorV2 as Estimator\n",
    "from qiskit.quantum_info import SparsePauliOp\n",
    "\n",
    "obs = \"ZZX\"\n",
    "\n",
    "res = {}\n",
    "res_estimates = {}\n",
    "\n",
    "for backend_name in my_backends:\n",
    "    print(f\"Running on {backend_name}\")\n",
    "    \n",
    "    \n",
    "    if backend_name != \"\":\n",
    "        backend = FakeProvider().backend(backend_name)\n",
    "        sim = AerSimulator.from_backend(backend)\n",
    "    else:\n",
    "        backend = AerSimulator()\n",
    "        sim = backend\n",
    "        \n",
    "    estimator = Estimator(backend=backend)\n",
    "    \n",
    "    observable = SparsePauliOp(obs)\n",
    "    \n",
    "    \n",
    "    transpiled = transpile(qc, backend)\n",
    "    _res = sim.run(transpiled, shots=shots).result().get_counts() #OSSERVABILI NON PUSHATE SOLO ZZZZ...\n",
    "    \n",
    "    pm = generate_preset_pass_manager(optimization_level=0, backend=backend)\n",
    "    isa_circuit = pm.run(qc)\n",
    "    isa_observable = observable.apply_layout(isa_circuit.layout)    \n",
    "    \n",
    "    _res_estimates = estimator.run([(isa_circuit, isa_observable)]).result()[0].data.evs\n",
    "    \n",
    "    print(_res_estimates)\n",
    "    \n",
    "    res[backend_name] = _res\n",
    "    res_estimates[backend_name] = _res_estimates\n",
    "    \n",
    "print(res)\n",
    "print(res_estimates)"
   ]
  }
 ],
 "metadata": {
  "kernelspec": {
   "display_name": ".venv",
   "language": "python",
   "name": "python3"
  },
  "language_info": {
   "codemirror_mode": {
    "name": "ipython",
    "version": 3
   },
   "file_extension": ".py",
   "mimetype": "text/x-python",
   "name": "python",
   "nbconvert_exporter": "python",
   "pygments_lexer": "ipython3",
   "version": "3.11.9"
  }
 },
 "nbformat": 4,
 "nbformat_minor": 2
}
